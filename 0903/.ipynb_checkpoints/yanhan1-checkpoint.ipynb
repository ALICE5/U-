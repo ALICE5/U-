{
 "cells": [
  {
   "cell_type": "code",
   "execution_count": 1,
   "metadata": {
    "collapsed": true
   },
   "outputs": [],
   "source": [
    "import numpy as np\n",
    "import matplotlib.pyplot as plt\n",
    "# import pymongo"
   ]
  },
  {
   "cell_type": "code",
   "execution_count": 2,
   "metadata": {
    "collapsed": true
   },
   "outputs": [],
   "source": [
    "# host = \"127.0.0.1\"\n",
    "# port = 27017\n",
    "# client = pymongo.MongoClient(host,port)\n",
    "# duanzu_db = client['mayi_duanzu']\n",
    "# duanzu_info=duanzu_db['duanzu']"
   ]
  },
  {
   "cell_type": "code",
   "execution_count": 3,
   "metadata": {
    "collapsed": true
   },
   "outputs": [],
   "source": [
    "# price_list=[]\n",
    "# for item in duanzu_info.find():\n",
    "#     price_list.append(item['price'])\n",
    "# price_arr = np.array(price_list)\n",
    "# print(price_arr)"
   ]
  },
  {
   "cell_type": "code",
   "execution_count": 4,
   "metadata": {},
   "outputs": [
    {
     "name": "stdout",
     "output_type": "stream",
     "text": [
      "[426 528 378 408 599 398 498 388 450 398 400 439 388 428 428 368 498 299\n",
      " 296 488 258 368 458 498 399 398 428 438 468 368 498 498 208 528 456 418\n",
      " 345 558 438 528 388 379 408 398 248 598 288 550 568 428 398 578 498 388\n",
      " 488 488 600 349 488 458 598 418 268 428 388 498 399 498 369 358 458 458\n",
      " 558 418 428 179 558 396 550 438 439 468 598 436 398 388 536 498 398 438\n",
      " 438 480 328 388 580 498 428 398 498 422 499 258 428 488 598 428 448 398\n",
      " 509 528 358 498 498 358 420 238 550 539 550 595 358 258 258 508 468 318\n",
      " 398 388 368 319 528 458 468 529 428 438 299 488 438 395 468 398 228 476\n",
      " 208 558 398 498 238 508 499 536 388 558 598 439 428 553 458 528 328 450\n",
      " 469 468 488 555 398 398 499 438 229 398 458 468 356 309 458 498 458 400\n",
      " 599 428 488 538 568 468 258 358 318 428 599 428 408 468 398 598 258 488\n",
      " 178 388 249 498 398 388 218 368 418 350 385 407 598 398 660]\n"
     ]
    }
   ],
   "source": [
    "price_arr = np.loadtxt(\"rent.csv\", delimiter=\",\", dtype=\"int\", usecols=1, skiprows=1, encoding='UTF-8')\n",
    "print(price_arr)"
   ]
  },
  {
   "cell_type": "code",
   "execution_count": 5,
   "metadata": {},
   "outputs": [
    {
     "name": "stdout",
     "output_type": "stream",
     "text": [
      "[2, 20, 57, 92, 40, 2, 0]\n"
     ]
    }
   ],
   "source": [
    "distribution = [len(np.where(price_arr<200)[0]),len(np.where((price_arr>=200)&(price_arr<300))[0]),\n",
    "                len(np.where((price_arr>=300)&(price_arr<400))[0]),len(np.where((price_arr>=400)&(price_arr<500))[0]),\n",
    "                len(np.where((price_arr>=500)&(price_arr<600))[0]),len(np.where((price_arr>=600)&(price_arr<700))[0]),\n",
    "                len(np.where(price_arr>=700)[0])\n",
    "               ]\n",
    "print(distribution)"
   ]
  },
  {
   "cell_type": "code",
   "execution_count": 6,
   "metadata": {},
   "outputs": [
    {
     "data": {
      "text/plain": [
       "<BarContainer object of 7 artists>"
      ]
     },
     "execution_count": 6,
     "metadata": {},
     "output_type": "execute_result"
    }
   ],
   "source": [
    "plt.figure()\n",
    "plt.bar(np.arange(len(distribution))+1,distribution,width = 0.6,align='center',color = 'c',alpha=0.7)"
   ]
  },
  {
   "cell_type": "code",
   "execution_count": 7,
   "metadata": {},
   "outputs": [
    {
     "data": {
      "image/png": "[encoded data removed]",
      "text/plain": [
       "<Figure size 432x288 with 1 Axes>"
      ]
     },
     "metadata": {},
     "output_type": "display_data"
    }
   ],
   "source": [
    "xticks=[\"(0,200)\",\"[200,300)\",\"[300,400)\",\"[400,500)\",\"[500,600)\",\"[600,700)\",\"[700,)\"]\n",
    "plt.xticks(np.arange(len(distribution))+1,xticks,size='small',rotation=30)\n",
    "plt.show()"
   ]
  },
  {
   "cell_type": "code",
   "execution_count": null,
   "metadata": {
    "collapsed": true
   },
   "outputs": [],
   "source": []
  }
 ],
 "metadata": {
  "kernelspec": {
   "display_name": "Python 3",
   "language": "python",
   "name": "python3"
  },
  "language_info": {
   "codemirror_mode": {
    "name": "ipython",
    "version": 3
   },
   "file_extension": ".py",
   "mimetype": "text/x-python",
   "name": "python",
   "nbconvert_exporter": "python",
   "pygments_lexer": "ipython3",
   "version": "3.5.2"
  }
 },
 "nbformat": 4,
 "nbformat_minor": 2
}
